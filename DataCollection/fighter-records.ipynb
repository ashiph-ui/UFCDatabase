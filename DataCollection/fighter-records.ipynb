{
 "cells": [
  {
   "cell_type": "markdown",
   "metadata": {},
   "source": [
    "### Imports"
   ]
  },
  {
   "cell_type": "code",
   "execution_count": 64,
   "metadata": {},
   "outputs": [],
   "source": [
    "from selenium import webdriver\n",
    "from selenium.webdriver.common.keys import Keys\n",
    "from selenium.webdriver.common.by import By\n",
    "from selenium.webdriver.support.ui import WebDriverWait\n",
    "from selenium.webdriver.support import expected_conditions as EC\n",
    "from selenium.webdriver.common.by import By\n",
    "from selenium.common.exceptions import TimeoutException\n",
    "import bs4\n",
    "import pandas as pd\n",
    "import tqdm"
   ]
  },
  {
   "cell_type": "markdown",
   "metadata": {},
   "source": [
    "### First Access fighters page"
   ]
  },
  {
   "cell_type": "code",
   "execution_count": 65,
   "metadata": {},
   "outputs": [],
   "source": [
    "def access_page(url):\n",
    "    try:\n",
    "        driver = webdriver.Chrome()\n",
    "        driver.get(url)\n",
    "    except TimeoutException:\n",
    "        print(\"TimeoutException: Page could not load, rerun the cell\")\n",
    "    return driver\n",
    "\n",
    "def click_on_all_fighters(driver):\n",
    "    driver.find_elements(By.CLASS_NAME, \"b-statistics__paginate-link\")[-1].click()\n",
    "    return driver\n",
    "\n",
    "def get_source(driver):\n",
    "    return bs4.BeautifulSoup(driver.page_source, \"html.parser\")\n",
    "\n",
    "def collect_fighter_records(page_source):\n",
    "    fighters = get_source(page_source)\n",
    "    entries = fighters.find_all(\"tr\", class_=\"b-statistics__table-row\")\n",
    "    \n",
    "    number_of_entries = len(entries)\n",
    "    print(f\"Number of entries: {number_of_entries}\")\n",
    "    \n",
    "    df = pd.DataFrame(columns=[\"FirstName\", \"LastName\", \"Nickname\", \"Height\", \"Weight\", \"Reach\", \"Stance\", \"Wins\", \"Losses\", \"Draws\", \"Belt\"])  \n",
    "    \n",
    "    for entry in entries[2:]:\n",
    "        stats = []\n",
    "        for i in range(0,11):\n",
    "            # store entry in a dictionary\n",
    "            stats.append(entry.find_all(\"td\")[i].text.strip())\n",
    "        df = pd.concat([df, pd.DataFrame([stats], columns=df.columns)], ignore_index=True)\n",
    "    \n",
    "\n",
    "    return df\n",
    "\n",
    "def iterate_scrape(driver):\n",
    "    source = get_source(driver)\n",
    "    nav_items = source.find_all(\"ul\", class_=\"b-statistics__nav-items\")\n",
    "    alphabet = nav_items[0].find_all(\"a\")\n",
    "    \n",
    "    df = pd.DataFrame(columns=[\"FirstName\", \"LastName\", \"Nickname\", \"Height\", \"Weight\", \"Reach\", \"Stance\", \"Wins\", \"Losses\", \"Draws\", \"Belt\"])\n",
    "    for i in tqdm.tqdm(range(0, len(alphabet))):\n",
    "        letter = alphabet[i]\n",
    "        driver.get(\"http://ufcstats.com\" + letter.get(\"href\"))\n",
    "        click_on_all_fighters(driver)\n",
    "        data = collect_fighter_records(driver)\n",
    "        df = pd.concat([df, data], ignore_index=True)\n",
    "        \n",
    "    # for letter in alphabet:\n",
    "    #     print(letter.get(\"href\"))\n",
    "    #     driver.get(\"http://ufcstats.com\" + letter.get(\"href\"))\n",
    "    #     click_on_all_fighters(driver)\n",
    "    #     data = collect_fighter_records(driver)\n",
    "    #     df = pd.concat([df, data], ignore_index=True)\n",
    "        \n",
    "    return df"
   ]
  },
  {
   "cell_type": "code",
   "execution_count": 66,
   "metadata": {},
   "outputs": [
    {
     "name": "stderr",
     "output_type": "stream",
     "text": [
      "  4%|▍         | 1/26 [00:01<00:25,  1.01s/it]"
     ]
    },
    {
     "name": "stdout",
     "output_type": "stream",
     "text": [
      "Number of entries: 225\n"
     ]
    },
    {
     "name": "stderr",
     "output_type": "stream",
     "text": [
      "  8%|▊         | 2/26 [00:04<01:03,  2.66s/it]"
     ]
    },
    {
     "name": "stdout",
     "output_type": "stream",
     "text": [
      "Number of entries: 309\n"
     ]
    },
    {
     "name": "stderr",
     "output_type": "stream",
     "text": [
      " 12%|█▏        | 3/26 [00:06<00:51,  2.23s/it]"
     ]
    },
    {
     "name": "stdout",
     "output_type": "stream",
     "text": [
      "Number of entries: 282\n"
     ]
    },
    {
     "name": "stderr",
     "output_type": "stream",
     "text": [
      " 15%|█▌        | 4/26 [00:07<00:42,  1.92s/it]"
     ]
    },
    {
     "name": "stdout",
     "output_type": "stream",
     "text": [
      "Number of entries: 202\n"
     ]
    },
    {
     "name": "stderr",
     "output_type": "stream",
     "text": [
      " 19%|█▉        | 5/26 [00:09<00:36,  1.75s/it]"
     ]
    },
    {
     "name": "stdout",
     "output_type": "stream",
     "text": [
      "Number of entries: 94\n"
     ]
    },
    {
     "name": "stderr",
     "output_type": "stream",
     "text": [
      " 23%|██▎       | 6/26 [00:10<00:29,  1.49s/it]"
     ]
    },
    {
     "name": "stdout",
     "output_type": "stream",
     "text": [
      "Number of entries: 141\n"
     ]
    },
    {
     "name": "stderr",
     "output_type": "stream",
     "text": [
      " 27%|██▋       | 7/26 [00:12<00:30,  1.60s/it]"
     ]
    },
    {
     "name": "stdout",
     "output_type": "stream",
     "text": [
      "Number of entries: 230\n"
     ]
    },
    {
     "name": "stderr",
     "output_type": "stream",
     "text": [
      " 31%|███       | 8/26 [00:13<00:29,  1.65s/it]"
     ]
    },
    {
     "name": "stdout",
     "output_type": "stream",
     "text": [
      "Number of entries: 224\n"
     ]
    },
    {
     "name": "stderr",
     "output_type": "stream",
     "text": [
      " 35%|███▍      | 9/26 [00:15<00:25,  1.50s/it]"
     ]
    },
    {
     "name": "stdout",
     "output_type": "stream",
     "text": [
      "Number of entries: 47\n"
     ]
    },
    {
     "name": "stderr",
     "output_type": "stream",
     "text": [
      " 38%|███▊      | 10/26 [00:16<00:23,  1.44s/it]"
     ]
    },
    {
     "name": "stdout",
     "output_type": "stream",
     "text": [
      "Number of entries: 125\n"
     ]
    },
    {
     "name": "stderr",
     "output_type": "stream",
     "text": [
      " 42%|████▏     | 11/26 [00:17<00:20,  1.40s/it]"
     ]
    },
    {
     "name": "stdout",
     "output_type": "stream",
     "text": [
      "Number of entries: 172\n"
     ]
    },
    {
     "name": "stderr",
     "output_type": "stream",
     "text": [
      " 46%|████▌     | 12/26 [00:19<00:19,  1.42s/it]"
     ]
    },
    {
     "name": "stdout",
     "output_type": "stream",
     "text": [
      "Number of entries: 204\n",
      "Number of entries: 421\n"
     ]
    },
    {
     "name": "stderr",
     "output_type": "stream",
     "text": [
      " 54%|█████▍    | 14/26 [00:22<00:17,  1.49s/it]"
     ]
    },
    {
     "name": "stdout",
     "output_type": "stream",
     "text": [
      "Number of entries: 115\n"
     ]
    },
    {
     "name": "stderr",
     "output_type": "stream",
     "text": [
      " 58%|█████▊    | 15/26 [00:23<00:15,  1.38s/it]"
     ]
    },
    {
     "name": "stdout",
     "output_type": "stream",
     "text": [
      "Number of entries: 82\n"
     ]
    },
    {
     "name": "stderr",
     "output_type": "stream",
     "text": [
      " 62%|██████▏   | 16/26 [00:25<00:14,  1.45s/it]"
     ]
    },
    {
     "name": "stdout",
     "output_type": "stream",
     "text": [
      "Number of entries: 224\n"
     ]
    },
    {
     "name": "stderr",
     "output_type": "stream",
     "text": [
      " 65%|██████▌   | 17/26 [00:26<00:11,  1.30s/it]"
     ]
    },
    {
     "name": "stdout",
     "output_type": "stream",
     "text": [
      "Number of entries: 15\n"
     ]
    },
    {
     "name": "stderr",
     "output_type": "stream",
     "text": [
      " 69%|██████▉   | 18/26 [00:27<00:10,  1.36s/it]"
     ]
    },
    {
     "name": "stdout",
     "output_type": "stream",
     "text": [
      "Number of entries: 224\n",
      "Number of entries: 459\n"
     ]
    },
    {
     "name": "stderr",
     "output_type": "stream",
     "text": [
      " 77%|███████▋  | 20/26 [00:32<00:11,  1.94s/it]"
     ]
    },
    {
     "name": "stdout",
     "output_type": "stream",
     "text": [
      "Number of entries: 154\n"
     ]
    },
    {
     "name": "stderr",
     "output_type": "stream",
     "text": [
      " 81%|████████  | 21/26 [00:34<00:08,  1.77s/it]"
     ]
    },
    {
     "name": "stdout",
     "output_type": "stream",
     "text": [
      "Number of entries: 24\n"
     ]
    },
    {
     "name": "stderr",
     "output_type": "stream",
     "text": [
      " 85%|████████▍ | 22/26 [00:35<00:06,  1.58s/it]"
     ]
    },
    {
     "name": "stdout",
     "output_type": "stream",
     "text": [
      "Number of entries: 95\n"
     ]
    },
    {
     "name": "stderr",
     "output_type": "stream",
     "text": [
      " 88%|████████▊ | 23/26 [00:36<00:04,  1.48s/it]"
     ]
    },
    {
     "name": "stdout",
     "output_type": "stream",
     "text": [
      "Number of entries: 140\n"
     ]
    },
    {
     "name": "stderr",
     "output_type": "stream",
     "text": [
      " 92%|█████████▏| 24/26 [00:37<00:02,  1.30s/it]"
     ]
    },
    {
     "name": "stdout",
     "output_type": "stream",
     "text": [
      "Number of entries: 5\n"
     ]
    },
    {
     "name": "stderr",
     "output_type": "stream",
     "text": [
      " 96%|█████████▌| 25/26 [00:38<00:01,  1.22s/it]"
     ]
    },
    {
     "name": "stdout",
     "output_type": "stream",
     "text": [
      "Number of entries: 52\n"
     ]
    },
    {
     "name": "stderr",
     "output_type": "stream",
     "text": [
      "100%|██████████| 26/26 [00:39<00:00,  1.52s/it]"
     ]
    },
    {
     "name": "stdout",
     "output_type": "stream",
     "text": [
      "Number of entries: 39\n"
     ]
    },
    {
     "name": "stderr",
     "output_type": "stream",
     "text": [
      "\n"
     ]
    }
   ],
   "source": [
    "homepage = access_page(\"http://ufcstats.com/statistics/fighters?char=a\")\n",
    "dta = iterate_scrape(homepage)"
   ]
  },
  {
   "cell_type": "code",
   "execution_count": 67,
   "metadata": {},
   "outputs": [
    {
     "data": {
      "text/html": [
       "<div>\n",
       "<style scoped>\n",
       "    .dataframe tbody tr th:only-of-type {\n",
       "        vertical-align: middle;\n",
       "    }\n",
       "\n",
       "    .dataframe tbody tr th {\n",
       "        vertical-align: top;\n",
       "    }\n",
       "\n",
       "    .dataframe thead th {\n",
       "        text-align: right;\n",
       "    }\n",
       "</style>\n",
       "<table border=\"1\" class=\"dataframe\">\n",
       "  <thead>\n",
       "    <tr style=\"text-align: right;\">\n",
       "      <th></th>\n",
       "      <th>FirstName</th>\n",
       "      <th>LastName</th>\n",
       "      <th>Nickname</th>\n",
       "      <th>Height</th>\n",
       "      <th>Weight</th>\n",
       "      <th>Reach</th>\n",
       "      <th>Stance</th>\n",
       "      <th>Wins</th>\n",
       "      <th>Losses</th>\n",
       "      <th>Draws</th>\n",
       "      <th>Belt</th>\n",
       "    </tr>\n",
       "  </thead>\n",
       "  <tbody>\n",
       "    <tr>\n",
       "      <th>0</th>\n",
       "      <td>Tom</td>\n",
       "      <td>Aaron</td>\n",
       "      <td></td>\n",
       "      <td>--</td>\n",
       "      <td>155 lbs.</td>\n",
       "      <td>--</td>\n",
       "      <td></td>\n",
       "      <td>5</td>\n",
       "      <td>3</td>\n",
       "      <td>0</td>\n",
       "      <td></td>\n",
       "    </tr>\n",
       "    <tr>\n",
       "      <th>1</th>\n",
       "      <td>Danny</td>\n",
       "      <td>Abbadi</td>\n",
       "      <td>The Assassin</td>\n",
       "      <td>5' 11\"</td>\n",
       "      <td>155 lbs.</td>\n",
       "      <td>--</td>\n",
       "      <td>Orthodox</td>\n",
       "      <td>4</td>\n",
       "      <td>6</td>\n",
       "      <td>0</td>\n",
       "      <td></td>\n",
       "    </tr>\n",
       "    <tr>\n",
       "      <th>2</th>\n",
       "      <td>Nariman</td>\n",
       "      <td>Abbasov</td>\n",
       "      <td>Bayraktar</td>\n",
       "      <td>5' 8\"</td>\n",
       "      <td>155 lbs.</td>\n",
       "      <td>66.0\"</td>\n",
       "      <td>Orthodox</td>\n",
       "      <td>28</td>\n",
       "      <td>4</td>\n",
       "      <td>0</td>\n",
       "      <td></td>\n",
       "    </tr>\n",
       "    <tr>\n",
       "      <th>3</th>\n",
       "      <td>David</td>\n",
       "      <td>Abbott</td>\n",
       "      <td>Tank</td>\n",
       "      <td>6' 0\"</td>\n",
       "      <td>265 lbs.</td>\n",
       "      <td>--</td>\n",
       "      <td>Switch</td>\n",
       "      <td>10</td>\n",
       "      <td>15</td>\n",
       "      <td>0</td>\n",
       "      <td></td>\n",
       "    </tr>\n",
       "    <tr>\n",
       "      <th>4</th>\n",
       "      <td>Hamdy</td>\n",
       "      <td>Abdelwahab</td>\n",
       "      <td>The Hammer</td>\n",
       "      <td>6' 2\"</td>\n",
       "      <td>264 lbs.</td>\n",
       "      <td>72.0\"</td>\n",
       "      <td>Southpaw</td>\n",
       "      <td>5</td>\n",
       "      <td>0</td>\n",
       "      <td>0</td>\n",
       "      <td></td>\n",
       "    </tr>\n",
       "    <tr>\n",
       "      <th>...</th>\n",
       "      <td>...</td>\n",
       "      <td>...</td>\n",
       "      <td>...</td>\n",
       "      <td>...</td>\n",
       "      <td>...</td>\n",
       "      <td>...</td>\n",
       "      <td>...</td>\n",
       "      <td>...</td>\n",
       "      <td>...</td>\n",
       "      <td>...</td>\n",
       "      <td>...</td>\n",
       "    </tr>\n",
       "    <tr>\n",
       "      <th>4247</th>\n",
       "      <td>Dave</td>\n",
       "      <td>Zitanick</td>\n",
       "      <td></td>\n",
       "      <td>--</td>\n",
       "      <td>170 lbs.</td>\n",
       "      <td>--</td>\n",
       "      <td></td>\n",
       "      <td>5</td>\n",
       "      <td>7</td>\n",
       "      <td>0</td>\n",
       "      <td></td>\n",
       "    </tr>\n",
       "    <tr>\n",
       "      <th>4248</th>\n",
       "      <td>Alex</td>\n",
       "      <td>Zuniga</td>\n",
       "      <td></td>\n",
       "      <td>--</td>\n",
       "      <td>145 lbs.</td>\n",
       "      <td>--</td>\n",
       "      <td></td>\n",
       "      <td>6</td>\n",
       "      <td>3</td>\n",
       "      <td>0</td>\n",
       "      <td></td>\n",
       "    </tr>\n",
       "    <tr>\n",
       "      <th>4249</th>\n",
       "      <td>George</td>\n",
       "      <td>Zuniga</td>\n",
       "      <td></td>\n",
       "      <td>5' 9\"</td>\n",
       "      <td>185 lbs.</td>\n",
       "      <td>--</td>\n",
       "      <td></td>\n",
       "      <td>3</td>\n",
       "      <td>1</td>\n",
       "      <td>0</td>\n",
       "      <td></td>\n",
       "    </tr>\n",
       "    <tr>\n",
       "      <th>4250</th>\n",
       "      <td>Allan</td>\n",
       "      <td>Zuniga</td>\n",
       "      <td>Tigre</td>\n",
       "      <td>5' 7\"</td>\n",
       "      <td>155 lbs.</td>\n",
       "      <td>70.0\"</td>\n",
       "      <td>Orthodox</td>\n",
       "      <td>13</td>\n",
       "      <td>1</td>\n",
       "      <td>0</td>\n",
       "      <td></td>\n",
       "    </tr>\n",
       "    <tr>\n",
       "      <th>4251</th>\n",
       "      <td>Virgil</td>\n",
       "      <td>Zwicker</td>\n",
       "      <td>RezDog</td>\n",
       "      <td>6' 2\"</td>\n",
       "      <td>205 lbs.</td>\n",
       "      <td>74.0\"</td>\n",
       "      <td></td>\n",
       "      <td>15</td>\n",
       "      <td>6</td>\n",
       "      <td>1</td>\n",
       "      <td></td>\n",
       "    </tr>\n",
       "  </tbody>\n",
       "</table>\n",
       "<p>4252 rows × 11 columns</p>\n",
       "</div>"
      ],
      "text/plain": [
       "     FirstName    LastName      Nickname  Height    Weight  Reach    Stance  \\\n",
       "0          Tom       Aaron                    --  155 lbs.     --             \n",
       "1        Danny      Abbadi  The Assassin  5' 11\"  155 lbs.     --  Orthodox   \n",
       "2      Nariman     Abbasov     Bayraktar   5' 8\"  155 lbs.  66.0\"  Orthodox   \n",
       "3        David      Abbott          Tank   6' 0\"  265 lbs.     --    Switch   \n",
       "4        Hamdy  Abdelwahab    The Hammer   6' 2\"  264 lbs.  72.0\"  Southpaw   \n",
       "...        ...         ...           ...     ...       ...    ...       ...   \n",
       "4247      Dave    Zitanick                    --  170 lbs.     --             \n",
       "4248      Alex      Zuniga                    --  145 lbs.     --             \n",
       "4249    George      Zuniga                 5' 9\"  185 lbs.     --             \n",
       "4250     Allan      Zuniga         Tigre   5' 7\"  155 lbs.  70.0\"  Orthodox   \n",
       "4251    Virgil     Zwicker        RezDog   6' 2\"  205 lbs.  74.0\"             \n",
       "\n",
       "     Wins Losses Draws Belt  \n",
       "0       5      3     0       \n",
       "1       4      6     0       \n",
       "2      28      4     0       \n",
       "3      10     15     0       \n",
       "4       5      0     0       \n",
       "...   ...    ...   ...  ...  \n",
       "4247    5      7     0       \n",
       "4248    6      3     0       \n",
       "4249    3      1     0       \n",
       "4250   13      1     0       \n",
       "4251   15      6     1       \n",
       "\n",
       "[4252 rows x 11 columns]"
      ]
     },
     "execution_count": 67,
     "metadata": {},
     "output_type": "execute_result"
    }
   ],
   "source": [
    "dta"
   ]
  },
  {
   "cell_type": "code",
   "execution_count": 69,
   "metadata": {},
   "outputs": [],
   "source": [
    "## add a 'record' column\n",
    "dta[\"Record\"] = dta[\"Wins\"] + \"-\" + dta[\"Losses\"] + \"-\" + dta[\"Draws\"]"
   ]
  },
  {
   "cell_type": "code",
   "execution_count": 70,
   "metadata": {},
   "outputs": [
    {
     "data": {
      "text/html": [
       "<div>\n",
       "<style scoped>\n",
       "    .dataframe tbody tr th:only-of-type {\n",
       "        vertical-align: middle;\n",
       "    }\n",
       "\n",
       "    .dataframe tbody tr th {\n",
       "        vertical-align: top;\n",
       "    }\n",
       "\n",
       "    .dataframe thead th {\n",
       "        text-align: right;\n",
       "    }\n",
       "</style>\n",
       "<table border=\"1\" class=\"dataframe\">\n",
       "  <thead>\n",
       "    <tr style=\"text-align: right;\">\n",
       "      <th></th>\n",
       "      <th>FirstName</th>\n",
       "      <th>LastName</th>\n",
       "      <th>Nickname</th>\n",
       "      <th>Height</th>\n",
       "      <th>Weight</th>\n",
       "      <th>Reach</th>\n",
       "      <th>Stance</th>\n",
       "      <th>Wins</th>\n",
       "      <th>Losses</th>\n",
       "      <th>Draws</th>\n",
       "      <th>Belt</th>\n",
       "      <th>Record</th>\n",
       "    </tr>\n",
       "  </thead>\n",
       "  <tbody>\n",
       "    <tr>\n",
       "      <th>0</th>\n",
       "      <td>Tom</td>\n",
       "      <td>Aaron</td>\n",
       "      <td></td>\n",
       "      <td>--</td>\n",
       "      <td>155 lbs.</td>\n",
       "      <td>--</td>\n",
       "      <td></td>\n",
       "      <td>5</td>\n",
       "      <td>3</td>\n",
       "      <td>0</td>\n",
       "      <td></td>\n",
       "      <td>5-3-0</td>\n",
       "    </tr>\n",
       "    <tr>\n",
       "      <th>1</th>\n",
       "      <td>Danny</td>\n",
       "      <td>Abbadi</td>\n",
       "      <td>The Assassin</td>\n",
       "      <td>5' 11\"</td>\n",
       "      <td>155 lbs.</td>\n",
       "      <td>--</td>\n",
       "      <td>Orthodox</td>\n",
       "      <td>4</td>\n",
       "      <td>6</td>\n",
       "      <td>0</td>\n",
       "      <td></td>\n",
       "      <td>4-6-0</td>\n",
       "    </tr>\n",
       "    <tr>\n",
       "      <th>2</th>\n",
       "      <td>Nariman</td>\n",
       "      <td>Abbasov</td>\n",
       "      <td>Bayraktar</td>\n",
       "      <td>5' 8\"</td>\n",
       "      <td>155 lbs.</td>\n",
       "      <td>66.0\"</td>\n",
       "      <td>Orthodox</td>\n",
       "      <td>28</td>\n",
       "      <td>4</td>\n",
       "      <td>0</td>\n",
       "      <td></td>\n",
       "      <td>28-4-0</td>\n",
       "    </tr>\n",
       "    <tr>\n",
       "      <th>3</th>\n",
       "      <td>David</td>\n",
       "      <td>Abbott</td>\n",
       "      <td>Tank</td>\n",
       "      <td>6' 0\"</td>\n",
       "      <td>265 lbs.</td>\n",
       "      <td>--</td>\n",
       "      <td>Switch</td>\n",
       "      <td>10</td>\n",
       "      <td>15</td>\n",
       "      <td>0</td>\n",
       "      <td></td>\n",
       "      <td>10-15-0</td>\n",
       "    </tr>\n",
       "    <tr>\n",
       "      <th>4</th>\n",
       "      <td>Hamdy</td>\n",
       "      <td>Abdelwahab</td>\n",
       "      <td>The Hammer</td>\n",
       "      <td>6' 2\"</td>\n",
       "      <td>264 lbs.</td>\n",
       "      <td>72.0\"</td>\n",
       "      <td>Southpaw</td>\n",
       "      <td>5</td>\n",
       "      <td>0</td>\n",
       "      <td>0</td>\n",
       "      <td></td>\n",
       "      <td>5-0-0</td>\n",
       "    </tr>\n",
       "    <tr>\n",
       "      <th>...</th>\n",
       "      <td>...</td>\n",
       "      <td>...</td>\n",
       "      <td>...</td>\n",
       "      <td>...</td>\n",
       "      <td>...</td>\n",
       "      <td>...</td>\n",
       "      <td>...</td>\n",
       "      <td>...</td>\n",
       "      <td>...</td>\n",
       "      <td>...</td>\n",
       "      <td>...</td>\n",
       "      <td>...</td>\n",
       "    </tr>\n",
       "    <tr>\n",
       "      <th>4247</th>\n",
       "      <td>Dave</td>\n",
       "      <td>Zitanick</td>\n",
       "      <td></td>\n",
       "      <td>--</td>\n",
       "      <td>170 lbs.</td>\n",
       "      <td>--</td>\n",
       "      <td></td>\n",
       "      <td>5</td>\n",
       "      <td>7</td>\n",
       "      <td>0</td>\n",
       "      <td></td>\n",
       "      <td>5-7-0</td>\n",
       "    </tr>\n",
       "    <tr>\n",
       "      <th>4248</th>\n",
       "      <td>Alex</td>\n",
       "      <td>Zuniga</td>\n",
       "      <td></td>\n",
       "      <td>--</td>\n",
       "      <td>145 lbs.</td>\n",
       "      <td>--</td>\n",
       "      <td></td>\n",
       "      <td>6</td>\n",
       "      <td>3</td>\n",
       "      <td>0</td>\n",
       "      <td></td>\n",
       "      <td>6-3-0</td>\n",
       "    </tr>\n",
       "    <tr>\n",
       "      <th>4249</th>\n",
       "      <td>George</td>\n",
       "      <td>Zuniga</td>\n",
       "      <td></td>\n",
       "      <td>5' 9\"</td>\n",
       "      <td>185 lbs.</td>\n",
       "      <td>--</td>\n",
       "      <td></td>\n",
       "      <td>3</td>\n",
       "      <td>1</td>\n",
       "      <td>0</td>\n",
       "      <td></td>\n",
       "      <td>3-1-0</td>\n",
       "    </tr>\n",
       "    <tr>\n",
       "      <th>4250</th>\n",
       "      <td>Allan</td>\n",
       "      <td>Zuniga</td>\n",
       "      <td>Tigre</td>\n",
       "      <td>5' 7\"</td>\n",
       "      <td>155 lbs.</td>\n",
       "      <td>70.0\"</td>\n",
       "      <td>Orthodox</td>\n",
       "      <td>13</td>\n",
       "      <td>1</td>\n",
       "      <td>0</td>\n",
       "      <td></td>\n",
       "      <td>13-1-0</td>\n",
       "    </tr>\n",
       "    <tr>\n",
       "      <th>4251</th>\n",
       "      <td>Virgil</td>\n",
       "      <td>Zwicker</td>\n",
       "      <td>RezDog</td>\n",
       "      <td>6' 2\"</td>\n",
       "      <td>205 lbs.</td>\n",
       "      <td>74.0\"</td>\n",
       "      <td></td>\n",
       "      <td>15</td>\n",
       "      <td>6</td>\n",
       "      <td>1</td>\n",
       "      <td></td>\n",
       "      <td>15-6-1</td>\n",
       "    </tr>\n",
       "  </tbody>\n",
       "</table>\n",
       "<p>4252 rows × 12 columns</p>\n",
       "</div>"
      ],
      "text/plain": [
       "     FirstName    LastName      Nickname  Height    Weight  Reach    Stance  \\\n",
       "0          Tom       Aaron                    --  155 lbs.     --             \n",
       "1        Danny      Abbadi  The Assassin  5' 11\"  155 lbs.     --  Orthodox   \n",
       "2      Nariman     Abbasov     Bayraktar   5' 8\"  155 lbs.  66.0\"  Orthodox   \n",
       "3        David      Abbott          Tank   6' 0\"  265 lbs.     --    Switch   \n",
       "4        Hamdy  Abdelwahab    The Hammer   6' 2\"  264 lbs.  72.0\"  Southpaw   \n",
       "...        ...         ...           ...     ...       ...    ...       ...   \n",
       "4247      Dave    Zitanick                    --  170 lbs.     --             \n",
       "4248      Alex      Zuniga                    --  145 lbs.     --             \n",
       "4249    George      Zuniga                 5' 9\"  185 lbs.     --             \n",
       "4250     Allan      Zuniga         Tigre   5' 7\"  155 lbs.  70.0\"  Orthodox   \n",
       "4251    Virgil     Zwicker        RezDog   6' 2\"  205 lbs.  74.0\"             \n",
       "\n",
       "     Wins Losses Draws Belt   Record  \n",
       "0       5      3     0         5-3-0  \n",
       "1       4      6     0         4-6-0  \n",
       "2      28      4     0        28-4-0  \n",
       "3      10     15     0       10-15-0  \n",
       "4       5      0     0         5-0-0  \n",
       "...   ...    ...   ...  ...      ...  \n",
       "4247    5      7     0         5-7-0  \n",
       "4248    6      3     0         6-3-0  \n",
       "4249    3      1     0         3-1-0  \n",
       "4250   13      1     0        13-1-0  \n",
       "4251   15      6     1        15-6-1  \n",
       "\n",
       "[4252 rows x 12 columns]"
      ]
     },
     "execution_count": 70,
     "metadata": {},
     "output_type": "execute_result"
    }
   ],
   "source": [
    "dta"
   ]
  },
  {
   "cell_type": "code",
   "execution_count": 71,
   "metadata": {},
   "outputs": [],
   "source": [
    "dta.to_csv(\"fighter-overview-stats1\", index=False)"
   ]
  },
  {
   "cell_type": "code",
   "execution_count": null,
   "metadata": {},
   "outputs": [],
   "source": []
  }
 ],
 "metadata": {
  "kernelspec": {
   "display_name": "Python 3",
   "language": "python",
   "name": "python3"
  },
  "language_info": {
   "codemirror_mode": {
    "name": "ipython",
    "version": 3
   },
   "file_extension": ".py",
   "mimetype": "text/x-python",
   "name": "python",
   "nbconvert_exporter": "python",
   "pygments_lexer": "ipython3",
   "version": "3.11.9"
  }
 },
 "nbformat": 4,
 "nbformat_minor": 2
}
